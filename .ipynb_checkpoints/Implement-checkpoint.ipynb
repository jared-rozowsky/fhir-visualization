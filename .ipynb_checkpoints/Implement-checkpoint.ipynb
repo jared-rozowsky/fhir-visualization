{
 "cells": [
  {
   "cell_type": "code",
   "execution_count": null,
   "id": "56903f77",
   "metadata": {},
   "outputs": [],
   "source": [
    "# IF we needed to download .py file from github\n",
    "\n",
    "# !wget https://raw.githubusercontent.com/jared-rozowsky/fhir-vis-testing/main/Extract%20and%20Visualize%20Data.py"
   ]
  },
  {
   "cell_type": "code",
   "execution_count": null,
   "id": "baedbb24",
   "metadata": {},
   "outputs": [],
   "source": [
    "!python Extract_Visualize_Data.py -h"
   ]
  },
  {
   "cell_type": "markdown",
   "id": "c50c186d",
   "metadata": {},
   "source": [
    "Make sure to use data = !python Extract_Visualize_Data.py ... in order to extract save the information in a local variable "
   ]
  },
  {
   "cell_type": "code",
   "execution_count": null,
   "id": "dd1e41fa",
   "metadata": {},
   "outputs": [],
   "source": []
  },
  {
   "cell_type": "code",
   "execution_count": null,
   "id": "e2c5d111",
   "metadata": {},
   "outputs": [],
   "source": [
    "import json\n",
    "\n",
    "vis = json.loads(data[0])"
   ]
  },
  {
   "cell_type": "code",
   "execution_count": null,
   "id": "ba9c92b8",
   "metadata": {},
   "outputs": [],
   "source": [
    "import pandas as pd\n",
    "\n",
    "df = pd.DataFrame(data=vis, columns = ['sample_id', 'case_id', 'type', 'gender', 'race', 'ethnicity', 'trisomy'])\n",
    "df.head()"
   ]
  },
  {
   "cell_type": "code",
   "execution_count": null,
   "id": "6484ce4c",
   "metadata": {},
   "outputs": [],
   "source": [
    "df.to_csv('fhir_visualization_test_df.csv')"
   ]
  }
 ],
 "metadata": {
  "kernelspec": {
   "display_name": "Python 3 (ipykernel)",
   "language": "python",
   "name": "python3"
  },
  "language_info": {
   "codemirror_mode": {
    "name": "ipython",
    "version": 3
   },
   "file_extension": ".py",
   "mimetype": "text/x-python",
   "name": "python",
   "nbconvert_exporter": "python",
   "pygments_lexer": "ipython3",
   "version": "3.9.12"
  }
 },
 "nbformat": 4,
 "nbformat_minor": 5
}
