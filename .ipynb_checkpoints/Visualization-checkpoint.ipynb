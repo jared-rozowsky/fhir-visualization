{
 "cells": [
  {
   "cell_type": "code",
   "execution_count": 1,
   "id": "ee008aa4",
   "metadata": {},
   "outputs": [],
   "source": [
    "import pandas as pd\n",
    "import matplotlib.pyplot as plt\n",
    "import numpy as np\n",
    "\n",
    "df = pd.read_csv('fhir_visualization_test_df.csv', index_col = 0)"
   ]
  },
  {
   "cell_type": "code",
   "execution_count": 2,
   "id": "ada86e72",
   "metadata": {},
   "outputs": [
    {
     "data": {
      "text/html": [
       "<div>\n",
       "<style scoped>\n",
       "    .dataframe tbody tr th:only-of-type {\n",
       "        vertical-align: middle;\n",
       "    }\n",
       "\n",
       "    .dataframe tbody tr th {\n",
       "        vertical-align: top;\n",
       "    }\n",
       "\n",
       "    .dataframe thead th {\n",
       "        text-align: right;\n",
       "    }\n",
       "</style>\n",
       "<table border=\"1\" class=\"dataframe\">\n",
       "  <thead>\n",
       "    <tr style=\"text-align: right;\">\n",
       "      <th></th>\n",
       "      <th>sample_id</th>\n",
       "      <th>case_id</th>\n",
       "      <th>type</th>\n",
       "      <th>gender</th>\n",
       "      <th>race</th>\n",
       "      <th>ethnicity</th>\n",
       "      <th>trisomy</th>\n",
       "    </tr>\n",
       "  </thead>\n",
       "  <tbody>\n",
       "    <tr>\n",
       "      <th>0</th>\n",
       "      <td>HTP0017A4_RNA_paxgene</td>\n",
       "      <td>HTP0017</td>\n",
       "      <td>Gene Fusions</td>\n",
       "      <td>female</td>\n",
       "      <td>White</td>\n",
       "      <td>Not Hispanic or Latino</td>\n",
       "      <td>T21</td>\n",
       "    </tr>\n",
       "    <tr>\n",
       "      <th>1</th>\n",
       "      <td>HTP0017A4_RNA_paxgene</td>\n",
       "      <td>HTP0017</td>\n",
       "      <td>Gene Fusions</td>\n",
       "      <td>female</td>\n",
       "      <td>White</td>\n",
       "      <td>Not Hispanic or Latino</td>\n",
       "      <td>T21</td>\n",
       "    </tr>\n",
       "    <tr>\n",
       "      <th>2</th>\n",
       "      <td>HTP0017A4_RNA_paxgene</td>\n",
       "      <td>HTP0017</td>\n",
       "      <td>Gene Fusions</td>\n",
       "      <td>female</td>\n",
       "      <td>White</td>\n",
       "      <td>Not Hispanic or Latino</td>\n",
       "      <td>T21</td>\n",
       "    </tr>\n",
       "    <tr>\n",
       "      <th>3</th>\n",
       "      <td>HTP0017A4_RNA_paxgene</td>\n",
       "      <td>HTP0017</td>\n",
       "      <td>Gene Expression Quantifications</td>\n",
       "      <td>female</td>\n",
       "      <td>White</td>\n",
       "      <td>Not Hispanic or Latino</td>\n",
       "      <td>T21</td>\n",
       "    </tr>\n",
       "    <tr>\n",
       "      <th>4</th>\n",
       "      <td>HTP0017A4_RNA_paxgene</td>\n",
       "      <td>HTP0017</td>\n",
       "      <td>Gene Expression Quantifications</td>\n",
       "      <td>female</td>\n",
       "      <td>White</td>\n",
       "      <td>Not Hispanic or Latino</td>\n",
       "      <td>T21</td>\n",
       "    </tr>\n",
       "  </tbody>\n",
       "</table>\n",
       "</div>"
      ],
      "text/plain": [
       "               sample_id  case_id                             type  gender  \\\n",
       "0  HTP0017A4_RNA_paxgene  HTP0017                     Gene Fusions  female   \n",
       "1  HTP0017A4_RNA_paxgene  HTP0017                     Gene Fusions  female   \n",
       "2  HTP0017A4_RNA_paxgene  HTP0017                     Gene Fusions  female   \n",
       "3  HTP0017A4_RNA_paxgene  HTP0017  Gene Expression Quantifications  female   \n",
       "4  HTP0017A4_RNA_paxgene  HTP0017  Gene Expression Quantifications  female   \n",
       "\n",
       "    race               ethnicity trisomy  \n",
       "0  White  Not Hispanic or Latino     T21  \n",
       "1  White  Not Hispanic or Latino     T21  \n",
       "2  White  Not Hispanic or Latino     T21  \n",
       "3  White  Not Hispanic or Latino     T21  \n",
       "4  White  Not Hispanic or Latino     T21  "
      ]
     },
     "execution_count": 2,
     "metadata": {},
     "output_type": "execute_result"
    }
   ],
   "source": [
    "df.head()"
   ]
  },
  {
   "cell_type": "code",
   "execution_count": 3,
   "id": "f674a5d5",
   "metadata": {},
   "outputs": [
    {
     "data": {
      "text/plain": [
       "sample_id     0\n",
       "case_id       0\n",
       "type          0\n",
       "gender        0\n",
       "race         36\n",
       "ethnicity    90\n",
       "trisomy       0\n",
       "dtype: int64"
      ]
     },
     "execution_count": 3,
     "metadata": {},
     "output_type": "execute_result"
    }
   ],
   "source": [
    "# Identify missing values\n",
    "# df[df == \"\"].count() # Empty cells imported as nan\n",
    "\n",
    "df.isna().sum()"
   ]
  },
  {
   "cell_type": "code",
   "execution_count": 4,
   "id": "9f69f30d",
   "metadata": {},
   "outputs": [],
   "source": [
    "# Replace missing data with \"No_Data\" label\n",
    "df.fillna('No Data', inplace=True)"
   ]
  },
  {
   "cell_type": "code",
   "execution_count": 5,
   "id": "d66e8fec",
   "metadata": {},
   "outputs": [
    {
     "data": {
      "text/plain": [
       "sample_id     0\n",
       "case_id       0\n",
       "type          0\n",
       "gender        0\n",
       "race         36\n",
       "ethnicity    90\n",
       "trisomy       0\n",
       "dtype: int64"
      ]
     },
     "execution_count": 5,
     "metadata": {},
     "output_type": "execute_result"
    }
   ],
   "source": [
    "# Sanity check\n",
    "df[df == \"No Data\"].count()"
   ]
  },
  {
   "cell_type": "code",
   "execution_count": 7,
   "id": "b1ced130",
   "metadata": {},
   "outputs": [],
   "source": [
    "# Tabulate data\n",
    "df_race = df[\"race\"].value_counts()\n",
    "df_gender = df[\"gender\"].value_counts()\n",
    "df_ethnicity = df[\"ethnicity\"].value_counts()\n",
    "df_trisomy = df[\"trisomy\"].value_counts()\n",
    "df_type = df[\"type\"].value_counts()"
   ]
  },
  {
   "cell_type": "code",
   "execution_count": 8,
   "id": "ec12812c",
   "metadata": {},
   "outputs": [
    {
     "name": "stdout",
     "output_type": "stream",
     "text": [
      "There are 2310 total files imported\n",
      "There are 385 unique case ids\n"
     ]
    }
   ],
   "source": [
    "# check the values of \n",
    "# each row for each column\n",
    "n = df.nunique(axis=0)\n",
    "print(\"There are {} total files imported\".format(len(df)))\n",
    "print(\"There are {} unique case ids\".format(n.case_id))"
   ]
  },
  {
   "cell_type": "code",
   "execution_count": 9,
   "id": "cc3fc41e",
   "metadata": {},
   "outputs": [
    {
     "data": {
      "application/javascript": [
       "\n",
       "(function(root) {\n",
       "  function now() {\n",
       "    return new Date();\n",
       "  }\n",
       "\n",
       "  var force = true;\n",
       "\n",
       "  if (typeof root._bokeh_onload_callbacks === \"undefined\" || force === true) {\n",
       "    root._bokeh_onload_callbacks = [];\n",
       "    root._bokeh_is_loading = undefined;\n",
       "  }\n",
       "\n",
       "  if (typeof (root._bokeh_timeout) === \"undefined\" || force === true) {\n",
       "    root._bokeh_timeout = Date.now() + 5000;\n",
       "    root._bokeh_failed_load = false;\n",
       "  }\n",
       "\n",
       "  function run_callbacks() {\n",
       "    try {\n",
       "      root._bokeh_onload_callbacks.forEach(function(callback) {\n",
       "        if (callback != null)\n",
       "          callback();\n",
       "      });\n",
       "    } finally {\n",
       "      delete root._bokeh_onload_callbacks\n",
       "    }\n",
       "    console.debug(\"Bokeh: all callbacks have finished\");\n",
       "  }\n",
       "\n",
       "  function load_libs(css_urls, js_urls, js_modules, callback) {\n",
       "    if (css_urls == null) css_urls = [];\n",
       "    if (js_urls == null) js_urls = [];\n",
       "    if (js_modules == null) js_modules = [];\n",
       "\n",
       "    root._bokeh_onload_callbacks.push(callback);\n",
       "    if (root._bokeh_is_loading > 0) {\n",
       "      console.debug(\"Bokeh: BokehJS is being loaded, scheduling callback at\", now());\n",
       "      return null;\n",
       "    }\n",
       "    if (js_urls.length === 0 && js_modules.length === 0) {\n",
       "      run_callbacks();\n",
       "      return null;\n",
       "    }\n",
       "    console.debug(\"Bokeh: BokehJS not loaded, scheduling load and callback at\", now());\n",
       "\n",
       "    function on_load() {\n",
       "      root._bokeh_is_loading--;\n",
       "      if (root._bokeh_is_loading === 0) {\n",
       "        console.debug(\"Bokeh: all BokehJS libraries/stylesheets loaded\");\n",
       "        run_callbacks()\n",
       "      }\n",
       "    }\n",
       "\n",
       "    function on_error() {\n",
       "      console.error(\"failed to load \" + url);\n",
       "    }\n",
       "\n",
       "    for (var i = 0; i < css_urls.length; i++) {\n",
       "      var url = css_urls[i];\n",
       "      const element = document.createElement(\"link\");\n",
       "      element.onload = on_load;\n",
       "      element.onerror = on_error;\n",
       "      element.rel = \"stylesheet\";\n",
       "      element.type = \"text/css\";\n",
       "      element.href = url;\n",
       "      console.debug(\"Bokeh: injecting link tag for BokehJS stylesheet: \", url);\n",
       "      document.body.appendChild(element);\n",
       "    }\n",
       "\n",
       "    var skip = [];\n",
       "    if (window.requirejs) {\n",
       "      window.requirejs.config({'packages': {}, 'paths': {'gridstack': 'https://cdn.jsdelivr.net/npm/gridstack@4.2.5/dist/gridstack-h5'}, 'shim': {'gridstack': {'exports': 'GridStack'}}});\n",
       "      \n",
       "      require([\"gridstack\"], function(GridStack) {\n",
       "\t\n",
       "\twindow.GridStack = GridStack\n",
       "\t\n",
       "\ton_load()\n",
       "      })\n",
       "      \n",
       "      root._bokeh_is_loading = css_urls.length + 1;\n",
       "    } else {\n",
       "      root._bokeh_is_loading = css_urls.length + js_urls.length + js_modules.length;\n",
       "    }\n",
       "    if (((window['GridStack'] !== undefined) && (!(window['GridStack'] instanceof HTMLElement))) || window.requirejs) {\n",
       "      var urls = ['https://cdn.jsdelivr.net/npm/gridstack@4.2.5/dist/gridstack-h5.js'];\n",
       "      for (var i = 0; i < urls.length; i++) {\n",
       "        skip.push(urls[i])\n",
       "      }\n",
       "    }\n",
       "    for (var i = 0; i < js_urls.length; i++) {\n",
       "      var url = js_urls[i];\n",
       "      if (skip.indexOf(url) >= 0) {\n",
       "\tif (!window.requirejs) {\n",
       "\t  on_load();\n",
       "\t}\n",
       "\tcontinue;\n",
       "      }\n",
       "      var element = document.createElement('script');\n",
       "      element.onload = on_load;\n",
       "      element.onerror = on_error;\n",
       "      element.async = false;\n",
       "      element.src = url;\n",
       "      console.debug(\"Bokeh: injecting script tag for BokehJS library: \", url);\n",
       "      document.head.appendChild(element);\n",
       "    }\n",
       "    for (var i = 0; i < js_modules.length; i++) {\n",
       "      var url = js_modules[i];\n",
       "      if (skip.indexOf(url) >= 0) {\n",
       "\tif (!window.requirejs) {\n",
       "\t  on_load();\n",
       "\t}\n",
       "\tcontinue;\n",
       "      }\n",
       "      var element = document.createElement('script');\n",
       "      element.onload = on_load;\n",
       "      element.onerror = on_error;\n",
       "      element.async = false;\n",
       "      element.src = url;\n",
       "      element.type = \"module\";\n",
       "      console.debug(\"Bokeh: injecting script tag for BokehJS library: \", url);\n",
       "      document.head.appendChild(element);\n",
       "    }\n",
       "    if (!js_urls.length && !js_modules.length) {\n",
       "      on_load()\n",
       "    }\n",
       "  };\n",
       "\n",
       "  function inject_raw_css(css) {\n",
       "    const element = document.createElement(\"style\");\n",
       "    element.appendChild(document.createTextNode(css));\n",
       "    document.body.appendChild(element);\n",
       "  }\n",
       "\n",
       "  var js_urls = [\"https://cdn.bokeh.org/bokeh/release/bokeh-2.4.2.min.js\", \"https://cdn.bokeh.org/bokeh/release/bokeh-gl-2.4.2.min.js\", \"https://cdn.bokeh.org/bokeh/release/bokeh-widgets-2.4.2.min.js\", \"https://cdn.bokeh.org/bokeh/release/bokeh-tables-2.4.2.min.js\", \"https://cdn.bokeh.org/bokeh/release/bokeh-mathjax-2.4.2.min.js\", \"https://unpkg.com/@holoviz/panel@0.13.0/dist/panel.min.js\"];\n",
       "  var js_modules = [];\n",
       "  var css_urls = [\"https://unpkg.com/@holoviz/panel@0.13.0/dist/css/alerts.css\", \"https://unpkg.com/@holoviz/panel@0.13.0/dist/css/card.css\", \"https://unpkg.com/@holoviz/panel@0.13.0/dist/css/dataframe.css\", \"https://unpkg.com/@holoviz/panel@0.13.0/dist/css/debugger.css\", \"https://unpkg.com/@holoviz/panel@0.13.0/dist/css/json.css\", \"https://unpkg.com/@holoviz/panel@0.13.0/dist/css/loading.css\", \"https://unpkg.com/@holoviz/panel@0.13.0/dist/css/markdown.css\", \"https://unpkg.com/@holoviz/panel@0.13.0/dist/css/widgets.css\"];\n",
       "  var inline_js = [\n",
       "    function(Bokeh) {\n",
       "      inject_raw_css(\"\\n    .bk.pn-loading.arcs:before {\\n      background-image: url(\\\"data:image/svg+xml;base64,PHN2ZyB4bWxucz0iaHR0cDovL3d3dy53My5vcmcvMjAwMC9zdmciIHhtbG5zOnhsaW5rPSJodHRwOi8vd3d3LnczLm9yZy8xOTk5L3hsaW5rIiBzdHlsZT0ibWFyZ2luOiBhdXRvOyBiYWNrZ3JvdW5kOiBub25lOyBkaXNwbGF5OiBibG9jazsgc2hhcGUtcmVuZGVyaW5nOiBhdXRvOyIgdmlld0JveD0iMCAwIDEwMCAxMDAiIHByZXNlcnZlQXNwZWN0UmF0aW89InhNaWRZTWlkIj4gIDxjaXJjbGUgY3g9IjUwIiBjeT0iNTAiIHI9IjMyIiBzdHJva2Utd2lkdGg9IjgiIHN0cm9rZT0iI2MzYzNjMyIgc3Ryb2tlLWRhc2hhcnJheT0iNTAuMjY1NDgyNDU3NDM2NjkgNTAuMjY1NDgyNDU3NDM2NjkiIGZpbGw9Im5vbmUiIHN0cm9rZS1saW5lY2FwPSJyb3VuZCI+ICAgIDxhbmltYXRlVHJhbnNmb3JtIGF0dHJpYnV0ZU5hbWU9InRyYW5zZm9ybSIgdHlwZT0icm90YXRlIiByZXBlYXRDb3VudD0iaW5kZWZpbml0ZSIgZHVyPSIxcyIga2V5VGltZXM9IjA7MSIgdmFsdWVzPSIwIDUwIDUwOzM2MCA1MCA1MCI+PC9hbmltYXRlVHJhbnNmb3JtPiAgPC9jaXJjbGU+PC9zdmc+\\\");\\n      background-size: auto calc(min(50%, 400px));\\n    }\\n    \");\n",
       "    },\n",
       "    function(Bokeh) {\n",
       "      Bokeh.set_log_level(\"info\");\n",
       "    },\n",
       "    function(Bokeh) {} // ensure no trailing comma for IE\n",
       "  ];\n",
       "\n",
       "  function run_inline_js() {\n",
       "    if ((root.Bokeh !== undefined) || (force === true)) {\n",
       "      for (var i = 0; i < inline_js.length; i++) {\n",
       "        inline_js[i].call(root, root.Bokeh);\n",
       "      }} else if (Date.now() < root._bokeh_timeout) {\n",
       "      setTimeout(run_inline_js, 100);\n",
       "    } else if (!root._bokeh_failed_load) {\n",
       "      console.log(\"Bokeh: BokehJS failed to load within specified timeout.\");\n",
       "      root._bokeh_failed_load = true;\n",
       "    }\n",
       "  }\n",
       "\n",
       "  if (root._bokeh_is_loading === 0) {\n",
       "    console.debug(\"Bokeh: BokehJS loaded, going straight to plotting\");\n",
       "    run_inline_js();\n",
       "  } else {\n",
       "    load_libs(css_urls, js_urls, js_modules, function() {\n",
       "      console.debug(\"Bokeh: BokehJS plotting callback run at\", now());\n",
       "      run_inline_js();\n",
       "    });\n",
       "  }\n",
       "}(window));"
      ],
      "application/vnd.holoviews_load.v0+json": "\n(function(root) {\n  function now() {\n    return new Date();\n  }\n\n  var force = true;\n\n  if (typeof root._bokeh_onload_callbacks === \"undefined\" || force === true) {\n    root._bokeh_onload_callbacks = [];\n    root._bokeh_is_loading = undefined;\n  }\n\n  if (typeof (root._bokeh_timeout) === \"undefined\" || force === true) {\n    root._bokeh_timeout = Date.now() + 5000;\n    root._bokeh_failed_load = false;\n  }\n\n  function run_callbacks() {\n    try {\n      root._bokeh_onload_callbacks.forEach(function(callback) {\n        if (callback != null)\n          callback();\n      });\n    } finally {\n      delete root._bokeh_onload_callbacks\n    }\n    console.debug(\"Bokeh: all callbacks have finished\");\n  }\n\n  function load_libs(css_urls, js_urls, js_modules, callback) {\n    if (css_urls == null) css_urls = [];\n    if (js_urls == null) js_urls = [];\n    if (js_modules == null) js_modules = [];\n\n    root._bokeh_onload_callbacks.push(callback);\n    if (root._bokeh_is_loading > 0) {\n      console.debug(\"Bokeh: BokehJS is being loaded, scheduling callback at\", now());\n      return null;\n    }\n    if (js_urls.length === 0 && js_modules.length === 0) {\n      run_callbacks();\n      return null;\n    }\n    console.debug(\"Bokeh: BokehJS not loaded, scheduling load and callback at\", now());\n\n    function on_load() {\n      root._bokeh_is_loading--;\n      if (root._bokeh_is_loading === 0) {\n        console.debug(\"Bokeh: all BokehJS libraries/stylesheets loaded\");\n        run_callbacks()\n      }\n    }\n\n    function on_error() {\n      console.error(\"failed to load \" + url);\n    }\n\n    for (var i = 0; i < css_urls.length; i++) {\n      var url = css_urls[i];\n      const element = document.createElement(\"link\");\n      element.onload = on_load;\n      element.onerror = on_error;\n      element.rel = \"stylesheet\";\n      element.type = \"text/css\";\n      element.href = url;\n      console.debug(\"Bokeh: injecting link tag for BokehJS stylesheet: \", url);\n      document.body.appendChild(element);\n    }\n\n    var skip = [];\n    if (window.requirejs) {\n      window.requirejs.config({'packages': {}, 'paths': {'gridstack': 'https://cdn.jsdelivr.net/npm/gridstack@4.2.5/dist/gridstack-h5'}, 'shim': {'gridstack': {'exports': 'GridStack'}}});\n      \n      require([\"gridstack\"], function(GridStack) {\n\t\n\twindow.GridStack = GridStack\n\t\n\ton_load()\n      })\n      \n      root._bokeh_is_loading = css_urls.length + 1;\n    } else {\n      root._bokeh_is_loading = css_urls.length + js_urls.length + js_modules.length;\n    }\n    if (((window['GridStack'] !== undefined) && (!(window['GridStack'] instanceof HTMLElement))) || window.requirejs) {\n      var urls = ['https://cdn.jsdelivr.net/npm/gridstack@4.2.5/dist/gridstack-h5.js'];\n      for (var i = 0; i < urls.length; i++) {\n        skip.push(urls[i])\n      }\n    }\n    for (var i = 0; i < js_urls.length; i++) {\n      var url = js_urls[i];\n      if (skip.indexOf(url) >= 0) {\n\tif (!window.requirejs) {\n\t  on_load();\n\t}\n\tcontinue;\n      }\n      var element = document.createElement('script');\n      element.onload = on_load;\n      element.onerror = on_error;\n      element.async = false;\n      element.src = url;\n      console.debug(\"Bokeh: injecting script tag for BokehJS library: \", url);\n      document.head.appendChild(element);\n    }\n    for (var i = 0; i < js_modules.length; i++) {\n      var url = js_modules[i];\n      if (skip.indexOf(url) >= 0) {\n\tif (!window.requirejs) {\n\t  on_load();\n\t}\n\tcontinue;\n      }\n      var element = document.createElement('script');\n      element.onload = on_load;\n      element.onerror = on_error;\n      element.async = false;\n      element.src = url;\n      element.type = \"module\";\n      console.debug(\"Bokeh: injecting script tag for BokehJS library: \", url);\n      document.head.appendChild(element);\n    }\n    if (!js_urls.length && !js_modules.length) {\n      on_load()\n    }\n  };\n\n  function inject_raw_css(css) {\n    const element = document.createElement(\"style\");\n    element.appendChild(document.createTextNode(css));\n    document.body.appendChild(element);\n  }\n\n  var js_urls = [\"https://cdn.bokeh.org/bokeh/release/bokeh-2.4.2.min.js\", \"https://cdn.bokeh.org/bokeh/release/bokeh-gl-2.4.2.min.js\", \"https://cdn.bokeh.org/bokeh/release/bokeh-widgets-2.4.2.min.js\", \"https://cdn.bokeh.org/bokeh/release/bokeh-tables-2.4.2.min.js\", \"https://cdn.bokeh.org/bokeh/release/bokeh-mathjax-2.4.2.min.js\", \"https://unpkg.com/@holoviz/panel@0.13.0/dist/panel.min.js\"];\n  var js_modules = [];\n  var css_urls = [\"https://unpkg.com/@holoviz/panel@0.13.0/dist/css/alerts.css\", \"https://unpkg.com/@holoviz/panel@0.13.0/dist/css/card.css\", \"https://unpkg.com/@holoviz/panel@0.13.0/dist/css/dataframe.css\", \"https://unpkg.com/@holoviz/panel@0.13.0/dist/css/debugger.css\", \"https://unpkg.com/@holoviz/panel@0.13.0/dist/css/json.css\", \"https://unpkg.com/@holoviz/panel@0.13.0/dist/css/loading.css\", \"https://unpkg.com/@holoviz/panel@0.13.0/dist/css/markdown.css\", \"https://unpkg.com/@holoviz/panel@0.13.0/dist/css/widgets.css\"];\n  var inline_js = [\n    function(Bokeh) {\n      inject_raw_css(\"\\n    .bk.pn-loading.arcs:before {\\n      background-image: url(\\\"data:image/svg+xml;base64,PHN2ZyB4bWxucz0iaHR0cDovL3d3dy53My5vcmcvMjAwMC9zdmciIHhtbG5zOnhsaW5rPSJodHRwOi8vd3d3LnczLm9yZy8xOTk5L3hsaW5rIiBzdHlsZT0ibWFyZ2luOiBhdXRvOyBiYWNrZ3JvdW5kOiBub25lOyBkaXNwbGF5OiBibG9jazsgc2hhcGUtcmVuZGVyaW5nOiBhdXRvOyIgdmlld0JveD0iMCAwIDEwMCAxMDAiIHByZXNlcnZlQXNwZWN0UmF0aW89InhNaWRZTWlkIj4gIDxjaXJjbGUgY3g9IjUwIiBjeT0iNTAiIHI9IjMyIiBzdHJva2Utd2lkdGg9IjgiIHN0cm9rZT0iI2MzYzNjMyIgc3Ryb2tlLWRhc2hhcnJheT0iNTAuMjY1NDgyNDU3NDM2NjkgNTAuMjY1NDgyNDU3NDM2NjkiIGZpbGw9Im5vbmUiIHN0cm9rZS1saW5lY2FwPSJyb3VuZCI+ICAgIDxhbmltYXRlVHJhbnNmb3JtIGF0dHJpYnV0ZU5hbWU9InRyYW5zZm9ybSIgdHlwZT0icm90YXRlIiByZXBlYXRDb3VudD0iaW5kZWZpbml0ZSIgZHVyPSIxcyIga2V5VGltZXM9IjA7MSIgdmFsdWVzPSIwIDUwIDUwOzM2MCA1MCA1MCI+PC9hbmltYXRlVHJhbnNmb3JtPiAgPC9jaXJjbGU+PC9zdmc+\\\");\\n      background-size: auto calc(min(50%, 400px));\\n    }\\n    \");\n    },\n    function(Bokeh) {\n      Bokeh.set_log_level(\"info\");\n    },\n    function(Bokeh) {} // ensure no trailing comma for IE\n  ];\n\n  function run_inline_js() {\n    if ((root.Bokeh !== undefined) || (force === true)) {\n      for (var i = 0; i < inline_js.length; i++) {\n        inline_js[i].call(root, root.Bokeh);\n      }} else if (Date.now() < root._bokeh_timeout) {\n      setTimeout(run_inline_js, 100);\n    } else if (!root._bokeh_failed_load) {\n      console.log(\"Bokeh: BokehJS failed to load within specified timeout.\");\n      root._bokeh_failed_load = true;\n    }\n  }\n\n  if (root._bokeh_is_loading === 0) {\n    console.debug(\"Bokeh: BokehJS loaded, going straight to plotting\");\n    run_inline_js();\n  } else {\n    load_libs(css_urls, js_urls, js_modules, function() {\n      console.debug(\"Bokeh: BokehJS plotting callback run at\", now());\n      run_inline_js();\n    });\n  }\n}(window));"
     },
     "metadata": {},
     "output_type": "display_data"
    },
    {
     "data": {
      "application/javascript": [
       "\n",
       "if ((window.PyViz === undefined) || (window.PyViz instanceof HTMLElement)) {\n",
       "  window.PyViz = {comms: {}, comm_status:{}, kernels:{}, receivers: {}, plot_index: []}\n",
       "}\n",
       "\n",
       "\n",
       "    function JupyterCommManager() {\n",
       "    }\n",
       "\n",
       "    JupyterCommManager.prototype.register_target = function(plot_id, comm_id, msg_handler) {\n",
       "      if (window.comm_manager || ((window.Jupyter !== undefined) && (Jupyter.notebook.kernel != null))) {\n",
       "        var comm_manager = window.comm_manager || Jupyter.notebook.kernel.comm_manager;\n",
       "        comm_manager.register_target(comm_id, function(comm) {\n",
       "          comm.on_msg(msg_handler);\n",
       "        });\n",
       "      } else if ((plot_id in window.PyViz.kernels) && (window.PyViz.kernels[plot_id])) {\n",
       "        window.PyViz.kernels[plot_id].registerCommTarget(comm_id, function(comm) {\n",
       "          comm.onMsg = msg_handler;\n",
       "        });\n",
       "      } else if (typeof google != 'undefined' && google.colab.kernel != null) {\n",
       "        google.colab.kernel.comms.registerTarget(comm_id, (comm) => {\n",
       "          var messages = comm.messages[Symbol.asyncIterator]();\n",
       "          function processIteratorResult(result) {\n",
       "            var message = result.value;\n",
       "            console.log(message)\n",
       "            var content = {data: message.data, comm_id};\n",
       "            var buffers = []\n",
       "            for (var buffer of message.buffers || []) {\n",
       "              buffers.push(new DataView(buffer))\n",
       "            }\n",
       "            var metadata = message.metadata || {};\n",
       "            var msg = {content, buffers, metadata}\n",
       "            msg_handler(msg);\n",
       "            return messages.next().then(processIteratorResult);\n",
       "          }\n",
       "          return messages.next().then(processIteratorResult);\n",
       "        })\n",
       "      }\n",
       "    }\n",
       "\n",
       "    JupyterCommManager.prototype.get_client_comm = function(plot_id, comm_id, msg_handler) {\n",
       "      if (comm_id in window.PyViz.comms) {\n",
       "        return window.PyViz.comms[comm_id];\n",
       "      } else if (window.comm_manager || ((window.Jupyter !== undefined) && (Jupyter.notebook.kernel != null))) {\n",
       "        var comm_manager = window.comm_manager || Jupyter.notebook.kernel.comm_manager;\n",
       "        var comm = comm_manager.new_comm(comm_id, {}, {}, {}, comm_id);\n",
       "        if (msg_handler) {\n",
       "          comm.on_msg(msg_handler);\n",
       "        }\n",
       "      } else if ((plot_id in window.PyViz.kernels) && (window.PyViz.kernels[plot_id])) {\n",
       "        var comm = window.PyViz.kernels[plot_id].connectToComm(comm_id);\n",
       "        comm.open();\n",
       "        if (msg_handler) {\n",
       "          comm.onMsg = msg_handler;\n",
       "        }\n",
       "      } else if (typeof google != 'undefined' && google.colab.kernel != null) {\n",
       "        var comm_promise = google.colab.kernel.comms.open(comm_id)\n",
       "        comm_promise.then((comm) => {\n",
       "          window.PyViz.comms[comm_id] = comm;\n",
       "          if (msg_handler) {\n",
       "            var messages = comm.messages[Symbol.asyncIterator]();\n",
       "            function processIteratorResult(result) {\n",
       "              var message = result.value;\n",
       "              var content = {data: message.data};\n",
       "              var metadata = message.metadata || {comm_id};\n",
       "              var msg = {content, metadata}\n",
       "              msg_handler(msg);\n",
       "              return messages.next().then(processIteratorResult);\n",
       "            }\n",
       "            return messages.next().then(processIteratorResult);\n",
       "          }\n",
       "        }) \n",
       "        var sendClosure = (data, metadata, buffers, disposeOnDone) => {\n",
       "          return comm_promise.then((comm) => {\n",
       "            comm.send(data, metadata, buffers, disposeOnDone);\n",
       "          });\n",
       "        };\n",
       "        var comm = {\n",
       "          send: sendClosure\n",
       "        };\n",
       "      }\n",
       "      window.PyViz.comms[comm_id] = comm;\n",
       "      return comm;\n",
       "    }\n",
       "    window.PyViz.comm_manager = new JupyterCommManager();\n",
       "    \n",
       "\n",
       "\n",
       "var JS_MIME_TYPE = 'application/javascript';\n",
       "var HTML_MIME_TYPE = 'text/html';\n",
       "var EXEC_MIME_TYPE = 'application/vnd.holoviews_exec.v0+json';\n",
       "var CLASS_NAME = 'output';\n",
       "\n",
       "/**\n",
       " * Render data to the DOM node\n",
       " */\n",
       "function render(props, node) {\n",
       "  var div = document.createElement(\"div\");\n",
       "  var script = document.createElement(\"script\");\n",
       "  node.appendChild(div);\n",
       "  node.appendChild(script);\n",
       "}\n",
       "\n",
       "/**\n",
       " * Handle when a new output is added\n",
       " */\n",
       "function handle_add_output(event, handle) {\n",
       "  var output_area = handle.output_area;\n",
       "  var output = handle.output;\n",
       "  if ((output.data == undefined) || (!output.data.hasOwnProperty(EXEC_MIME_TYPE))) {\n",
       "    return\n",
       "  }\n",
       "  var id = output.metadata[EXEC_MIME_TYPE][\"id\"];\n",
       "  var toinsert = output_area.element.find(\".\" + CLASS_NAME.split(' ')[0]);\n",
       "  if (id !== undefined) {\n",
       "    var nchildren = toinsert.length;\n",
       "    var html_node = toinsert[nchildren-1].children[0];\n",
       "    html_node.innerHTML = output.data[HTML_MIME_TYPE];\n",
       "    var scripts = [];\n",
       "    var nodelist = html_node.querySelectorAll(\"script\");\n",
       "    for (var i in nodelist) {\n",
       "      if (nodelist.hasOwnProperty(i)) {\n",
       "        scripts.push(nodelist[i])\n",
       "      }\n",
       "    }\n",
       "\n",
       "    scripts.forEach( function (oldScript) {\n",
       "      var newScript = document.createElement(\"script\");\n",
       "      var attrs = [];\n",
       "      var nodemap = oldScript.attributes;\n",
       "      for (var j in nodemap) {\n",
       "        if (nodemap.hasOwnProperty(j)) {\n",
       "          attrs.push(nodemap[j])\n",
       "        }\n",
       "      }\n",
       "      attrs.forEach(function(attr) { newScript.setAttribute(attr.name, attr.value) });\n",
       "      newScript.appendChild(document.createTextNode(oldScript.innerHTML));\n",
       "      oldScript.parentNode.replaceChild(newScript, oldScript);\n",
       "    });\n",
       "    if (JS_MIME_TYPE in output.data) {\n",
       "      toinsert[nchildren-1].children[1].textContent = output.data[JS_MIME_TYPE];\n",
       "    }\n",
       "    output_area._hv_plot_id = id;\n",
       "    if ((window.Bokeh !== undefined) && (id in Bokeh.index)) {\n",
       "      window.PyViz.plot_index[id] = Bokeh.index[id];\n",
       "    } else {\n",
       "      window.PyViz.plot_index[id] = null;\n",
       "    }\n",
       "  } else if (output.metadata[EXEC_MIME_TYPE][\"server_id\"] !== undefined) {\n",
       "    var bk_div = document.createElement(\"div\");\n",
       "    bk_div.innerHTML = output.data[HTML_MIME_TYPE];\n",
       "    var script_attrs = bk_div.children[0].attributes;\n",
       "    for (var i = 0; i < script_attrs.length; i++) {\n",
       "      toinsert[toinsert.length - 1].childNodes[1].setAttribute(script_attrs[i].name, script_attrs[i].value);\n",
       "    }\n",
       "    // store reference to server id on output_area\n",
       "    output_area._bokeh_server_id = output.metadata[EXEC_MIME_TYPE][\"server_id\"];\n",
       "  }\n",
       "}\n",
       "\n",
       "/**\n",
       " * Handle when an output is cleared or removed\n",
       " */\n",
       "function handle_clear_output(event, handle) {\n",
       "  var id = handle.cell.output_area._hv_plot_id;\n",
       "  var server_id = handle.cell.output_area._bokeh_server_id;\n",
       "  if (((id === undefined) || !(id in PyViz.plot_index)) && (server_id !== undefined)) { return; }\n",
       "  var comm = window.PyViz.comm_manager.get_client_comm(\"hv-extension-comm\", \"hv-extension-comm\", function () {});\n",
       "  if (server_id !== null) {\n",
       "    comm.send({event_type: 'server_delete', 'id': server_id});\n",
       "    return;\n",
       "  } else if (comm !== null) {\n",
       "    comm.send({event_type: 'delete', 'id': id});\n",
       "  }\n",
       "  delete PyViz.plot_index[id];\n",
       "  if ((window.Bokeh !== undefined) & (id in window.Bokeh.index)) {\n",
       "    var doc = window.Bokeh.index[id].model.document\n",
       "    doc.clear();\n",
       "    const i = window.Bokeh.documents.indexOf(doc);\n",
       "    if (i > -1) {\n",
       "      window.Bokeh.documents.splice(i, 1);\n",
       "    }\n",
       "  }\n",
       "}\n",
       "\n",
       "/**\n",
       " * Handle kernel restart event\n",
       " */\n",
       "function handle_kernel_cleanup(event, handle) {\n",
       "  delete PyViz.comms[\"hv-extension-comm\"];\n",
       "  window.PyViz.plot_index = {}\n",
       "}\n",
       "\n",
       "/**\n",
       " * Handle update_display_data messages\n",
       " */\n",
       "function handle_update_output(event, handle) {\n",
       "  handle_clear_output(event, {cell: {output_area: handle.output_area}})\n",
       "  handle_add_output(event, handle)\n",
       "}\n",
       "\n",
       "function register_renderer(events, OutputArea) {\n",
       "  function append_mime(data, metadata, element) {\n",
       "    // create a DOM node to render to\n",
       "    var toinsert = this.create_output_subarea(\n",
       "    metadata,\n",
       "    CLASS_NAME,\n",
       "    EXEC_MIME_TYPE\n",
       "    );\n",
       "    this.keyboard_manager.register_events(toinsert);\n",
       "    // Render to node\n",
       "    var props = {data: data, metadata: metadata[EXEC_MIME_TYPE]};\n",
       "    render(props, toinsert[0]);\n",
       "    element.append(toinsert);\n",
       "    return toinsert\n",
       "  }\n",
       "\n",
       "  events.on('output_added.OutputArea', handle_add_output);\n",
       "  events.on('output_updated.OutputArea', handle_update_output);\n",
       "  events.on('clear_output.CodeCell', handle_clear_output);\n",
       "  events.on('delete.Cell', handle_clear_output);\n",
       "  events.on('kernel_ready.Kernel', handle_kernel_cleanup);\n",
       "\n",
       "  OutputArea.prototype.register_mime_type(EXEC_MIME_TYPE, append_mime, {\n",
       "    safe: true,\n",
       "    index: 0\n",
       "  });\n",
       "}\n",
       "\n",
       "if (window.Jupyter !== undefined) {\n",
       "  try {\n",
       "    var events = require('base/js/events');\n",
       "    var OutputArea = require('notebook/js/outputarea').OutputArea;\n",
       "    if (OutputArea.prototype.mime_types().indexOf(EXEC_MIME_TYPE) == -1) {\n",
       "      register_renderer(events, OutputArea);\n",
       "    }\n",
       "  } catch(err) {\n",
       "  }\n",
       "}\n"
      ],
      "application/vnd.holoviews_load.v0+json": "\nif ((window.PyViz === undefined) || (window.PyViz instanceof HTMLElement)) {\n  window.PyViz = {comms: {}, comm_status:{}, kernels:{}, receivers: {}, plot_index: []}\n}\n\n\n    function JupyterCommManager() {\n    }\n\n    JupyterCommManager.prototype.register_target = function(plot_id, comm_id, msg_handler) {\n      if (window.comm_manager || ((window.Jupyter !== undefined) && (Jupyter.notebook.kernel != null))) {\n        var comm_manager = window.comm_manager || Jupyter.notebook.kernel.comm_manager;\n        comm_manager.register_target(comm_id, function(comm) {\n          comm.on_msg(msg_handler);\n        });\n      } else if ((plot_id in window.PyViz.kernels) && (window.PyViz.kernels[plot_id])) {\n        window.PyViz.kernels[plot_id].registerCommTarget(comm_id, function(comm) {\n          comm.onMsg = msg_handler;\n        });\n      } else if (typeof google != 'undefined' && google.colab.kernel != null) {\n        google.colab.kernel.comms.registerTarget(comm_id, (comm) => {\n          var messages = comm.messages[Symbol.asyncIterator]();\n          function processIteratorResult(result) {\n            var message = result.value;\n            console.log(message)\n            var content = {data: message.data, comm_id};\n            var buffers = []\n            for (var buffer of message.buffers || []) {\n              buffers.push(new DataView(buffer))\n            }\n            var metadata = message.metadata || {};\n            var msg = {content, buffers, metadata}\n            msg_handler(msg);\n            return messages.next().then(processIteratorResult);\n          }\n          return messages.next().then(processIteratorResult);\n        })\n      }\n    }\n\n    JupyterCommManager.prototype.get_client_comm = function(plot_id, comm_id, msg_handler) {\n      if (comm_id in window.PyViz.comms) {\n        return window.PyViz.comms[comm_id];\n      } else if (window.comm_manager || ((window.Jupyter !== undefined) && (Jupyter.notebook.kernel != null))) {\n        var comm_manager = window.comm_manager || Jupyter.notebook.kernel.comm_manager;\n        var comm = comm_manager.new_comm(comm_id, {}, {}, {}, comm_id);\n        if (msg_handler) {\n          comm.on_msg(msg_handler);\n        }\n      } else if ((plot_id in window.PyViz.kernels) && (window.PyViz.kernels[plot_id])) {\n        var comm = window.PyViz.kernels[plot_id].connectToComm(comm_id);\n        comm.open();\n        if (msg_handler) {\n          comm.onMsg = msg_handler;\n        }\n      } else if (typeof google != 'undefined' && google.colab.kernel != null) {\n        var comm_promise = google.colab.kernel.comms.open(comm_id)\n        comm_promise.then((comm) => {\n          window.PyViz.comms[comm_id] = comm;\n          if (msg_handler) {\n            var messages = comm.messages[Symbol.asyncIterator]();\n            function processIteratorResult(result) {\n              var message = result.value;\n              var content = {data: message.data};\n              var metadata = message.metadata || {comm_id};\n              var msg = {content, metadata}\n              msg_handler(msg);\n              return messages.next().then(processIteratorResult);\n            }\n            return messages.next().then(processIteratorResult);\n          }\n        }) \n        var sendClosure = (data, metadata, buffers, disposeOnDone) => {\n          return comm_promise.then((comm) => {\n            comm.send(data, metadata, buffers, disposeOnDone);\n          });\n        };\n        var comm = {\n          send: sendClosure\n        };\n      }\n      window.PyViz.comms[comm_id] = comm;\n      return comm;\n    }\n    window.PyViz.comm_manager = new JupyterCommManager();\n    \n\n\nvar JS_MIME_TYPE = 'application/javascript';\nvar HTML_MIME_TYPE = 'text/html';\nvar EXEC_MIME_TYPE = 'application/vnd.holoviews_exec.v0+json';\nvar CLASS_NAME = 'output';\n\n/**\n * Render data to the DOM node\n */\nfunction render(props, node) {\n  var div = document.createElement(\"div\");\n  var script = document.createElement(\"script\");\n  node.appendChild(div);\n  node.appendChild(script);\n}\n\n/**\n * Handle when a new output is added\n */\nfunction handle_add_output(event, handle) {\n  var output_area = handle.output_area;\n  var output = handle.output;\n  if ((output.data == undefined) || (!output.data.hasOwnProperty(EXEC_MIME_TYPE))) {\n    return\n  }\n  var id = output.metadata[EXEC_MIME_TYPE][\"id\"];\n  var toinsert = output_area.element.find(\".\" + CLASS_NAME.split(' ')[0]);\n  if (id !== undefined) {\n    var nchildren = toinsert.length;\n    var html_node = toinsert[nchildren-1].children[0];\n    html_node.innerHTML = output.data[HTML_MIME_TYPE];\n    var scripts = [];\n    var nodelist = html_node.querySelectorAll(\"script\");\n    for (var i in nodelist) {\n      if (nodelist.hasOwnProperty(i)) {\n        scripts.push(nodelist[i])\n      }\n    }\n\n    scripts.forEach( function (oldScript) {\n      var newScript = document.createElement(\"script\");\n      var attrs = [];\n      var nodemap = oldScript.attributes;\n      for (var j in nodemap) {\n        if (nodemap.hasOwnProperty(j)) {\n          attrs.push(nodemap[j])\n        }\n      }\n      attrs.forEach(function(attr) { newScript.setAttribute(attr.name, attr.value) });\n      newScript.appendChild(document.createTextNode(oldScript.innerHTML));\n      oldScript.parentNode.replaceChild(newScript, oldScript);\n    });\n    if (JS_MIME_TYPE in output.data) {\n      toinsert[nchildren-1].children[1].textContent = output.data[JS_MIME_TYPE];\n    }\n    output_area._hv_plot_id = id;\n    if ((window.Bokeh !== undefined) && (id in Bokeh.index)) {\n      window.PyViz.plot_index[id] = Bokeh.index[id];\n    } else {\n      window.PyViz.plot_index[id] = null;\n    }\n  } else if (output.metadata[EXEC_MIME_TYPE][\"server_id\"] !== undefined) {\n    var bk_div = document.createElement(\"div\");\n    bk_div.innerHTML = output.data[HTML_MIME_TYPE];\n    var script_attrs = bk_div.children[0].attributes;\n    for (var i = 0; i < script_attrs.length; i++) {\n      toinsert[toinsert.length - 1].childNodes[1].setAttribute(script_attrs[i].name, script_attrs[i].value);\n    }\n    // store reference to server id on output_area\n    output_area._bokeh_server_id = output.metadata[EXEC_MIME_TYPE][\"server_id\"];\n  }\n}\n\n/**\n * Handle when an output is cleared or removed\n */\nfunction handle_clear_output(event, handle) {\n  var id = handle.cell.output_area._hv_plot_id;\n  var server_id = handle.cell.output_area._bokeh_server_id;\n  if (((id === undefined) || !(id in PyViz.plot_index)) && (server_id !== undefined)) { return; }\n  var comm = window.PyViz.comm_manager.get_client_comm(\"hv-extension-comm\", \"hv-extension-comm\", function () {});\n  if (server_id !== null) {\n    comm.send({event_type: 'server_delete', 'id': server_id});\n    return;\n  } else if (comm !== null) {\n    comm.send({event_type: 'delete', 'id': id});\n  }\n  delete PyViz.plot_index[id];\n  if ((window.Bokeh !== undefined) & (id in window.Bokeh.index)) {\n    var doc = window.Bokeh.index[id].model.document\n    doc.clear();\n    const i = window.Bokeh.documents.indexOf(doc);\n    if (i > -1) {\n      window.Bokeh.documents.splice(i, 1);\n    }\n  }\n}\n\n/**\n * Handle kernel restart event\n */\nfunction handle_kernel_cleanup(event, handle) {\n  delete PyViz.comms[\"hv-extension-comm\"];\n  window.PyViz.plot_index = {}\n}\n\n/**\n * Handle update_display_data messages\n */\nfunction handle_update_output(event, handle) {\n  handle_clear_output(event, {cell: {output_area: handle.output_area}})\n  handle_add_output(event, handle)\n}\n\nfunction register_renderer(events, OutputArea) {\n  function append_mime(data, metadata, element) {\n    // create a DOM node to render to\n    var toinsert = this.create_output_subarea(\n    metadata,\n    CLASS_NAME,\n    EXEC_MIME_TYPE\n    );\n    this.keyboard_manager.register_events(toinsert);\n    // Render to node\n    var props = {data: data, metadata: metadata[EXEC_MIME_TYPE]};\n    render(props, toinsert[0]);\n    element.append(toinsert);\n    return toinsert\n  }\n\n  events.on('output_added.OutputArea', handle_add_output);\n  events.on('output_updated.OutputArea', handle_update_output);\n  events.on('clear_output.CodeCell', handle_clear_output);\n  events.on('delete.Cell', handle_clear_output);\n  events.on('kernel_ready.Kernel', handle_kernel_cleanup);\n\n  OutputArea.prototype.register_mime_type(EXEC_MIME_TYPE, append_mime, {\n    safe: true,\n    index: 0\n  });\n}\n\nif (window.Jupyter !== undefined) {\n  try {\n    var events = require('base/js/events');\n    var OutputArea = require('notebook/js/outputarea').OutputArea;\n    if (OutputArea.prototype.mime_types().indexOf(EXEC_MIME_TYPE) == -1) {\n      register_renderer(events, OutputArea);\n    }\n  } catch(err) {\n  }\n}\n"
     },
     "metadata": {},
     "output_type": "display_data"
    },
    {
     "data": {
      "text/html": [
       "<style>.bk-root, .bk-root .bk:before, .bk-root .bk:after {\n",
       "  font-family: var(--jp-ui-font-size1);\n",
       "  font-size: var(--jp-ui-font-size1);\n",
       "  color: var(--jp-ui-font-color1);\n",
       "}\n",
       "</style>"
      ]
     },
     "metadata": {},
     "output_type": "display_data"
    }
   ],
   "source": [
    "import panel as pn\n",
    "pn.extension()"
   ]
  },
  {
   "cell_type": "code",
   "execution_count": 10,
   "id": "1c39d639",
   "metadata": {},
   "outputs": [
    {
     "data": {
      "image/png": "[encoded data removed]",
      "text/plain": [
       "<Figure size 432x288 with 1 Axes>"
      ]
     },
     "metadata": {},
     "output_type": "display_data"
    }
   ],
   "source": [
    "fig0 = plt.figure()\n",
    "ax0 = fig0.subplots()\n",
    "ax0.pie(df_gender, labels = df_gender.index, textprops={'fontsize': 14})\n",
    "ax0.title.set_text('GENDER')\n",
    "ax0.title.set_size(16)"
   ]
  },
  {
   "cell_type": "code",
   "execution_count": 11,
   "id": "5f27a20c",
   "metadata": {},
   "outputs": [
    {
     "data": {
      "text/plain": [
       "<matplotlib.legend.Legend at 0x28777e50d30>"
      ]
     },
     "execution_count": 11,
     "metadata": {},
     "output_type": "execute_result"
    },
    {
     "data": {
      "image/png": "[encoded data removed]",
      "text/plain": [
       "<Figure size 432x288 with 1 Axes>"
      ]
     },
     "metadata": {},
     "output_type": "display_data"
    }
   ],
   "source": [
    "fig1 = plt.figure()\n",
    "ax1 = fig1.subplots()\n",
    "ax1.pie(df_race)\n",
    "ax1.title.set_text('RACE')\n",
    "ax1.title.set_size(16)\n",
    "ax1.legend(df_race.index,\n",
    "          loc = \"center right\", \n",
    "          bbox_to_anchor=(1, 0, 1.1, 1))"
   ]
  },
  {
   "cell_type": "code",
   "execution_count": 12,
   "id": "976b0838",
   "metadata": {},
   "outputs": [
    {
     "data": {
      "text/plain": [
       "<matplotlib.legend.Legend at 0x28777ee1820>"
      ]
     },
     "execution_count": 12,
     "metadata": {},
     "output_type": "execute_result"
    },
    {
     "data": {
      "image/png": "[encoded data removed]",
      "text/plain": [
       "<Figure size 432x288 with 1 Axes>"
      ]
     },
     "metadata": {},
     "output_type": "display_data"
    }
   ],
   "source": [
    "fig2 = plt.figure()\n",
    "ax2 = fig2.subplots()\n",
    "ax2.pie(df_ethnicity)\n",
    "ax2.title.set_text('ETHNICITY')\n",
    "ax2.title.set_size(16)\n",
    "ax2.legend(df_ethnicity.index,\n",
    "          loc = \"center right\", \n",
    "          bbox_to_anchor=(1, 0, 0.7, 1))"
   ]
  },
  {
   "cell_type": "code",
   "execution_count": 13,
   "id": "58151fc7",
   "metadata": {},
   "outputs": [
    {
     "data": {
      "image/png": "[encoded data removed]",
      "text/plain": [
       "<Figure size 432x288 with 1 Axes>"
      ]
     },
     "metadata": {},
     "output_type": "display_data"
    }
   ],
   "source": [
    "fig3 = plt.figure()\n",
    "ax3 = fig3.subplots()\n",
    "ax3.pie(df_trisomy, labels = df_trisomy.index, textprops={'fontsize': 14})\n",
    "ax3.title.set_text('TRISOMY')\n",
    "ax3.title.set_size(16)"
   ]
  },
  {
   "cell_type": "code",
   "execution_count": 32,
   "id": "b8550b79",
   "metadata": {},
   "outputs": [
    {
     "data": {
      "text/plain": [
       "['#1f77b4',\n",
       " '#ff7f0e',\n",
       " '#2ca02c',\n",
       " '#d62728',\n",
       " '#9467bd',\n",
       " '#8c564b',\n",
       " '#e377c2',\n",
       " '#7f7f7f',\n",
       " '#bcbd22',\n",
       " '#17becf']"
      ]
     },
     "execution_count": 32,
     "metadata": {},
     "output_type": "execute_result"
    }
   ],
   "source": [
    "prop_cycle = plt.rcParams['axes.prop_cycle']\n",
    "colors = prop_cycle.by_key()['color']\n",
    "colors"
   ]
  },
  {
   "cell_type": "code",
   "execution_count": 58,
   "id": "6e591a06",
   "metadata": {},
   "outputs": [
    {
     "data": {
      "image/png": "[encoded data removed]",
      "text/plain": [
       "<Figure size 432x288 with 1 Axes>"
      ]
     },
     "metadata": {
      "needs_background": "light"
     },
     "output_type": "display_data"
    }
   ],
   "source": [
    "fig4 = plt.figure()\n",
    "ax4 = fig4.subplots()\n",
    "ax4.barh(df_type.index, df_type, color=colors[0:2])\n",
    "ax4.invert_yaxis()\n",
    "ax4.set_xlabel('Number of Files', fontsize = 14)\n",
    "ax4.set_facecolor('whitesmoke')\n",
    "ax4.spines[:].set_visible(False)\n",
    "ax4.tick_params(axis='both', labelsize=12)\n"
   ]
  },
  {
   "cell_type": "code",
   "execution_count": 34,
   "id": "f669de68",
   "metadata": {},
   "outputs": [
    {
     "data": {},
     "metadata": {},
     "output_type": "display_data"
    },
    {
     "data": {
      "application/vnd.holoviews_exec.v0+json": "",
      "text/html": [
       "<div id='1002'>\n",
       "\n",
       "\n",
       "\n",
       "\n",
       "\n",
       "  <div class=\"bk-root\" id=\"43da98fb-256d-4396-baec-503dd31549ed\" data-root-id=\"1002\"></div>\n",
       "</div>\n",
       "<script type=\"application/javascript\">(function(root) {\n",
       "  function embed_document(root) {\n",
       "    var docs_json = {\"70f50e22-146c-47dd-a19e-78a8f8d4cd3b\":{\"defs\":[{\"extends\":null,\"module\":null,\"name\":\"ReactiveHTML1\",\"overrides\":[],\"properties\":[]},{\"extends\":null,\"module\":null,\"name\":\"FlexBox1\",\"overrides\":[],\"properties\":[{\"default\":\"flex-start\",\"kind\":null,\"name\":\"align_content\"},{\"default\":\"flex-start\",\"kind\":null,\"name\":\"align_items\"},{\"default\":\"row\",\"kind\":null,\"name\":\"flex_direction\"},{\"default\":\"wrap\",\"kind\":null,\"name\":\"flex_wrap\"},{\"default\":\"flex-start\",\"kind\":null,\"name\":\"justify_content\"}]},{\"extends\":null,\"module\":null,\"name\":\"GridStack1\",\"overrides\":[],\"properties\":[{\"default\":\"warn\",\"kind\":null,\"name\":\"mode\"},{\"default\":null,\"kind\":null,\"name\":\"ncols\"},{\"default\":null,\"kind\":null,\"name\":\"nrows\"},{\"default\":true,\"kind\":null,\"name\":\"allow_resize\"},{\"default\":true,\"kind\":null,\"name\":\"allow_drag\"},{\"default\":[],\"kind\":null,\"name\":\"state\"}]},{\"extends\":null,\"module\":null,\"name\":\"click1\",\"overrides\":[],\"properties\":[{\"default\":\"\",\"kind\":null,\"name\":\"terminal_output\"},{\"default\":\"\",\"kind\":null,\"name\":\"debug_name\"},{\"default\":0,\"kind\":null,\"name\":\"clears\"}]},{\"extends\":null,\"module\":null,\"name\":\"TemplateActions1\",\"overrides\":[],\"properties\":[{\"default\":0,\"kind\":null,\"name\":\"open_modal\"},{\"default\":0,\"kind\":null,\"name\":\"close_modal\"}]},{\"extends\":null,\"module\":null,\"name\":\"MaterialTemplateActions1\",\"overrides\":[],\"properties\":[{\"default\":0,\"kind\":null,\"name\":\"open_modal\"},{\"default\":0,\"kind\":null,\"name\":\"close_modal\"}]}],\"roots\":{\"references\":[{\"attributes\":{\"reload\":false},\"id\":\"1004\",\"type\":\"panel.models.location.Location\"},{\"attributes\":{\"client_comm_id\":\"4f982f83b4894d159606b8d1bb5cc0e1\",\"comm_id\":\"38ae33bc7080464fbe39a7a1226ee3e4\",\"plot_id\":\"1002\"},\"id\":\"1003\",\"type\":\"panel.models.comm_manager.CommManager\"},{\"attributes\":{\"height\":249,\"margin\":[5,5,5,5],\"name\":\"Matplotlib00111\",\"text\":\"&lt;img src=&quot;data:image/png;base64,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&quot; width=&quot;466px&quot; height=&quot;249px&quot; alt=&quot;&quot;&gt;&lt;/img&gt;\",\"width\":466},\"id\":\"1002\",\"type\":\"panel.models.markup.HTML\"}],\"root_ids\":[\"1002\",\"1003\",\"1004\"]},\"title\":\"Bokeh Application\",\"version\":\"2.4.2\"}};\n",
       "    var render_items = [{\"docid\":\"70f50e22-146c-47dd-a19e-78a8f8d4cd3b\",\"root_ids\":[\"1002\"],\"roots\":{\"1002\":\"43da98fb-256d-4396-baec-503dd31549ed\"}}];\n",
       "    root.Bokeh.embed.embed_items_notebook(docs_json, render_items);\n",
       "  }\n",
       "  if (root.Bokeh !== undefined && root.Bokeh.Panel !== undefined) {\n",
       "    embed_document(root);\n",
       "  } else {\n",
       "    var attempts = 0;\n",
       "    var timer = setInterval(function(root) {\n",
       "      if (root.Bokeh !== undefined && root.Bokeh.Panel !== undefined) {\n",
       "        clearInterval(timer);\n",
       "        embed_document(root);\n",
       "      } else if (document.readyState == \"complete\") {\n",
       "        attempts++;\n",
       "        if (attempts > 200) {\n",
       "          clearInterval(timer);\n",
       "          console.log(\"Bokeh: ERROR: Unable to run BokehJS code because BokehJS library is missing\");\n",
       "        }\n",
       "      }\n",
       "    }, 25, root)\n",
       "  }\n",
       "})(window);</script>"
      ],
      "text/plain": [
       "Matplotlib(Figure, tight=True)"
      ]
     },
     "execution_count": 34,
     "metadata": {
      "application/vnd.holoviews_exec.v0+json": {
       "id": "1002"
      }
     },
     "output_type": "execute_result"
    }
   ],
   "source": [
    "pn.pane.Matplotlib(fig1, tight = True)"
   ]
  },
  {
   "cell_type": "code",
   "execution_count": 35,
   "id": "65860f00",
   "metadata": {},
   "outputs": [],
   "source": [
    "options = ['Gender', 'Race', 'Ethnicity', 'Trisomy']\n",
    "checkbox_group = pn.widgets.CheckBoxGroup(\n",
    "    name='Checkbox Group', value= options, \n",
    "    options=options,\n",
    "    inline=False)\n"
   ]
  },
  {
   "cell_type": "code",
   "execution_count": 36,
   "id": "82180a4f",
   "metadata": {},
   "outputs": [
    {
     "data": {
      "text/plain": [
       "['Gender', 'Race', 'Ethnicity', 'Trisomy']"
      ]
     },
     "execution_count": 36,
     "metadata": {},
     "output_type": "execute_result"
    }
   ],
   "source": [
    "checkbox_group.value"
   ]
  },
  {
   "cell_type": "code",
   "execution_count": 37,
   "id": "af20f515",
   "metadata": {},
   "outputs": [
    {
     "data": {},
     "metadata": {},
     "output_type": "display_data"
    },
    {
     "data": {
      "application/vnd.holoviews_exec.v0+json": "",
      "text/html": [
       "<div id='1005'>\n",
       "\n",
       "\n",
       "\n",
       "\n",
       "\n",
       "  <div class=\"bk-root\" id=\"b646d394-1cbd-4aec-8d9e-64882874aaba\" data-root-id=\"1005\"></div>\n",
       "</div>\n",
       "<script type=\"application/javascript\">(function(root) {\n",
       "  function embed_document(root) {\n",
       "    var docs_json = {\"f8dea543-2eb6-4db0-abe5-099be023963a\":{\"defs\":[{\"extends\":null,\"module\":null,\"name\":\"ReactiveHTML1\",\"overrides\":[],\"properties\":[]},{\"extends\":null,\"module\":null,\"name\":\"FlexBox1\",\"overrides\":[],\"properties\":[{\"default\":\"flex-start\",\"kind\":null,\"name\":\"align_content\"},{\"default\":\"flex-start\",\"kind\":null,\"name\":\"align_items\"},{\"default\":\"row\",\"kind\":null,\"name\":\"flex_direction\"},{\"default\":\"wrap\",\"kind\":null,\"name\":\"flex_wrap\"},{\"default\":\"flex-start\",\"kind\":null,\"name\":\"justify_content\"}]},{\"extends\":null,\"module\":null,\"name\":\"GridStack1\",\"overrides\":[],\"properties\":[{\"default\":\"warn\",\"kind\":null,\"name\":\"mode\"},{\"default\":null,\"kind\":null,\"name\":\"ncols\"},{\"default\":null,\"kind\":null,\"name\":\"nrows\"},{\"default\":true,\"kind\":null,\"name\":\"allow_resize\"},{\"default\":true,\"kind\":null,\"name\":\"allow_drag\"},{\"default\":[],\"kind\":null,\"name\":\"state\"}]},{\"extends\":null,\"module\":null,\"name\":\"click1\",\"overrides\":[],\"properties\":[{\"default\":\"\",\"kind\":null,\"name\":\"terminal_output\"},{\"default\":\"\",\"kind\":null,\"name\":\"debug_name\"},{\"default\":0,\"kind\":null,\"name\":\"clears\"}]},{\"extends\":null,\"module\":null,\"name\":\"TemplateActions1\",\"overrides\":[],\"properties\":[{\"default\":0,\"kind\":null,\"name\":\"open_modal\"},{\"default\":0,\"kind\":null,\"name\":\"close_modal\"}]},{\"extends\":null,\"module\":null,\"name\":\"MaterialTemplateActions1\",\"overrides\":[],\"properties\":[{\"default\":0,\"kind\":null,\"name\":\"open_modal\"},{\"default\":0,\"kind\":null,\"name\":\"close_modal\"}]}],\"roots\":{\"references\":[{\"attributes\":{\"active\":[0],\"labels\":[\"Visible\"],\"margin\":[5,10,5,10]},\"id\":\"1012\",\"type\":\"CheckboxGroup\"},{\"attributes\":{\"active\":[0],\"labels\":[\"Visible\"],\"margin\":[5,10,5,10]},\"id\":\"1010\",\"type\":\"CheckboxGroup\"},{\"attributes\":{\"active\":[0],\"labels\":[\"Visible\"],\"margin\":[5,10,5,10]},\"id\":\"1011\",\"type\":\"CheckboxGroup\"},{\"attributes\":{\"children\":[{\"id\":\"1006\"},{\"id\":\"1008\"}],\"margin\":[0,0,0,0],\"name\":\"Row00186\"},\"id\":\"1005\",\"type\":\"Row\"},{\"attributes\":{\"css_classes\":[\"markdown\"],\"margin\":[5,5,5,5],\"name\":\"Markdown00183\",\"text\":\"&lt;p style=line-height:2.2&gt; Gender &lt;br&gt; Race &lt;br&gt; Ethnicity &lt;br&gt; Trisomy &lt;/p&gt;\"},\"id\":\"1007\",\"type\":\"panel.models.markup.HTML\"},{\"attributes\":{\"children\":[{\"id\":\"1009\"},{\"id\":\"1010\"},{\"id\":\"1011\"},{\"id\":\"1012\"}],\"margin\":[0,0,0,0],\"name\":\"Column00182\"},\"id\":\"1008\",\"type\":\"Column\"},{\"attributes\":{\"active\":[0],\"labels\":[\"Visible\"],\"margin\":[5,10,5,10]},\"id\":\"1009\",\"type\":\"CheckboxGroup\"},{\"attributes\":{\"children\":[{\"id\":\"1007\"}],\"margin\":[0,0,0,0],\"name\":\"Column00185\"},\"id\":\"1006\",\"type\":\"Column\"},{\"attributes\":{\"client_comm_id\":\"817757ea912a4c4c8d3a937f9712d022\",\"comm_id\":\"e441f63e7b3d467082957ee7525e58f0\",\"plot_id\":\"1005\"},\"id\":\"1013\",\"type\":\"panel.models.comm_manager.CommManager\"}],\"root_ids\":[\"1005\",\"1013\"]},\"title\":\"Bokeh Application\",\"version\":\"2.4.2\"}};\n",
       "    var render_items = [{\"docid\":\"f8dea543-2eb6-4db0-abe5-099be023963a\",\"root_ids\":[\"1005\"],\"roots\":{\"1005\":\"b646d394-1cbd-4aec-8d9e-64882874aaba\"}}];\n",
       "    root.Bokeh.embed.embed_items_notebook(docs_json, render_items);\n",
       "  }\n",
       "  if (root.Bokeh !== undefined && root.Bokeh.Panel !== undefined) {\n",
       "    embed_document(root);\n",
       "  } else {\n",
       "    var attempts = 0;\n",
       "    var timer = setInterval(function(root) {\n",
       "      if (root.Bokeh !== undefined && root.Bokeh.Panel !== undefined) {\n",
       "        clearInterval(timer);\n",
       "        embed_document(root);\n",
       "      } else if (document.readyState == \"complete\") {\n",
       "        attempts++;\n",
       "        if (attempts > 200) {\n",
       "          clearInterval(timer);\n",
       "          console.log(\"Bokeh: ERROR: Unable to run BokehJS code because BokehJS library is missing\");\n",
       "        }\n",
       "      }\n",
       "    }, 25, root)\n",
       "  }\n",
       "})(window);</script>"
      ],
      "text/plain": [
       "Row\n",
       "    [0] Column\n",
       "        [0] Markdown(str)\n",
       "    [1] Column\n",
       "        [0] Checkbox(name='Visible', value=True)\n",
       "        [1] Checkbox(name='Visible', value=True)\n",
       "        [2] Checkbox(name='Visible', value=True)\n",
       "        [3] Checkbox(name='Visible', value=True)"
      ]
     },
     "execution_count": 37,
     "metadata": {
      "application/vnd.holoviews_exec.v0+json": {
       "id": "1005"
      }
     },
     "output_type": "execute_result"
    }
   ],
   "source": [
    "a = pn.pane.Matplotlib(fig0, tight=True)\n",
    "b = pn.pane.Matplotlib(fig1, tight=True)\n",
    "c = pn.pane.Matplotlib(fig2, tight=True)\n",
    "d = pn.pane.Matplotlib(fig3, tight=True)\n",
    "\n",
    "layout1 = pn.Row(pn.Column(a), \n",
    "                pn.Column(b),\n",
    "                pn.Column(c),\n",
    "                pn.Column(d))\n",
    "\n",
    "\n",
    "controls1 = pn.Column(*(g.controls(['visible'])[1] for g in layout1))\n",
    "\n",
    "# labels = pn.Column(options[0], options[1], options[2], options[3])\n",
    "labels = pn.Column(\"<p style=line-height:2.2> Gender <br> Race <br> Ethnicity <br> Trisomy </p>\")\n",
    "\n",
    "pn.Row(labels,controls1)"
   ]
  },
  {
   "cell_type": "code",
   "execution_count": 63,
   "id": "b412eac5",
   "metadata": {},
   "outputs": [],
   "source": [
    "#Layout using FastListTemplate \n",
    "template = pn.template.FastListTemplate(\n",
    "    title=\"INCLUDE FHIR VISUALIZATION\",\n",
    "    sidebar=[pn.pane.Markdown(\"## Number of Files Loaded: {}\".format(len(df))),\n",
    "             pn.pane.Markdown(\"\"),\n",
    "             pn.pane.Markdown(\"## Total Unique Patients: {}\".format(n.case_id)),\n",
    "             pn.pane.Markdown(\"\"),\n",
    "             pn.pane.Markdown(\"###Graphs\"),\n",
    "             pn.Row(labels, pn.Column(pn.Spacer(height = 10), controls1)), \n",
    "             pn.Spacer(height=100),\n",
    "             pn.pane.PNG('SB Image.png', align = 'center' )],\n",
    "    main=[pn.Column(pn.pane.Markdown(\"# Demographics\"),\n",
    "                    layout1),\n",
    "          pn.Column(pn.pane.Markdown(\"# Data Type\"),\n",
    "                    pn.pane.Matplotlib(fig4, tight=True, height = 250)),\n",
    "          pn.Row(pn.pane.Markdown(\"We can put other text or plots here\"))],\n",
    "    theme_toggle = False\n",
    ").servable();"
   ]
  },
  {
   "cell_type": "code",
   "execution_count": 64,
   "id": "9fa598da",
   "metadata": {},
   "outputs": [],
   "source": [
    "from bokeh.resources import INLINE\n",
    "template.save('fhir-visualization-test.html', resources=INLINE)"
   ]
  }
 ],
 "metadata": {
  "kernelspec": {
   "display_name": "Python 3 (ipykernel)",
   "language": "python",
   "name": "python3"
  },
  "language_info": {
   "codemirror_mode": {
    "name": "ipython",
    "version": 3
   },
   "file_extension": ".py",
   "mimetype": "text/x-python",
   "name": "python",
   "nbconvert_exporter": "python",
   "pygments_lexer": "ipython3",
   "version": "3.9.12"
  }
 },
 "nbformat": 4,
 "nbformat_minor": 5
}
